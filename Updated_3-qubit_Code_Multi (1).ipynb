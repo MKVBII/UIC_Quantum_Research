{
 "cells": [
  {
   "cell_type": "code",
   "execution_count": 1,
   "metadata": {},
   "outputs": [],
   "source": [
    "import numpy as np\n",
    "from numpy import pi as pi  # Importing the mathematical constant π\n",
    "import scipy as sc  # Importing SciPy for advanced math operations (not used in the code)\n",
    "import matplotlib.pyplot as plt  # For visualizing quantum circuits\n",
    "\n",
    "# Importing Qiskit modules for quantum circuit design and visualization\n",
    "import qiskit\n",
    "from qiskit.visualization import plot_histogram\n",
    "from qiskit import QuantumRegister, QuantumCircuit\n",
    "from qiskit.result import marginal_counts\n",
    "from qiskit.circuit import QuantumRegister, ClassicalRegister\n",
    "from qiskit.transpiler.preset_passmanagers import generate_preset_pass_manager\n",
    "import qiskit.quantum_info as qi\n",
    "\n",
    "# Updated import to use IBM Runtime primitives\n",
    "from qiskit_ibm_runtime import QiskitRuntimeService\n",
    "from qiskit_ibm_runtime import SamplerV2 as Sampler\n",
    "\n",
    "import time  # To measure execution time of code"
   ]
  },
  {
   "cell_type": "code",
   "execution_count": null,
   "metadata": {},
   "outputs": [],
   "source": [
    "# IBM Quantum channel; set to default \n",
    "QiskitRuntimeService.save_account(channel=\"ibm_quantum\", token=\".....\", overwrite=True, set_as_default=True)"
   ]
  },
  {
   "cell_type": "code",
   "execution_count": 3,
   "metadata": {},
   "outputs": [
    {
     "data": {
      "image/png": "[encoded data removed]",
      "text/plain": [
       "<Figure size 431.245x426.417 with 1 Axes>"
      ]
     },
     "execution_count": 3,
     "metadata": {},
     "output_type": "execute_result"
    }
   ],
   "source": [
    "# Defining a function to create quantum circuits dynamically based on inputs\n",
    "def create_circuit(name, num_qubits, operations):\n",
    "    \"\"\"\n",
    "    Creates a quantum circuit with the specified name, number of qubits, and operations.\n",
    "\n",
    "    Parameters:\n",
    "    - name (str): Name of the quantum circuit.\n",
    "    - num_qubits (int): Number of qubits in the circuit.\n",
    "    - operations (list of tuples): List of operations to apply. Each operation is defined as:\n",
    "      (operation_name, *qubit_indices)\n",
    "\n",
    "    Returns:\n",
    "    - QuantumCircuit: The constructed quantum circuit.\n",
    "    \"\"\"\n",
    "    circuit = QuantumCircuit(num_qubits, name=name)  # Initialize the quantum circuit\n",
    "    for op in operations:\n",
    "        # Dynamically apply each operation to the circuit using getattr\n",
    "        getattr(circuit, op[0])(*op[1:])\n",
    "    return circuit\n",
    "\n",
    "# Defining a dictionary to hold quantum circuit data\n",
    "# Each entry consists of a circuit name, number of qubits, and a list of operations\n",
    "circuits_data = {\n",
    "    \"P0+\": (3, [(\"id\", 0), (\"id\", 1), (\"id\", 2)]),\n",
    "    \"P0-\": (3, [(\"cx\", 2, 1), (\"x\", 0), (\"x\", 1), (\"x\", 2), (\"ccx\", 2, 1, 0), (\"x\", 1), (\"x\", 2)]),\n",
    "    \"P1+\": (3, [(\"ccx\", 2, 1, 0), (\"cx\", 2, 1), (\"x\", 2)]),\n",
    "    \"P1-\": (3, [(\"cx\", 1, 0), (\"x\", 2)]),\n",
    "    \"P2+\": (3, [(\"cx\", 1, 0), (\"x\", 1)]),\n",
    "    \"P2-\": (3, [(\"ccx\", 2, 1, 0), (\"cx\", 2, 1), (\"x\", 1)]),\n",
    "    \"P3+\": (3, [(\"cx\", 2, 1), (\"x\", 0), (\"x\", 1), (\"x\", 2), (\"ccx\", 2, 1, 0)]),\n",
    "    \"P3-\": (3, [(\"x\", 1)]),\n",
    "    \"P4+\": (3, [(\"x\", 2)]),\n",
    "    \"P4-\": (3, [(\"cx\", 2, 1), (\"x\", 0), (\"x\", 1), (\"x\", 2), (\"ccx\", 2, 1, 0), (\"x\", 2), (\"x\", 1)]),\n",
    "    \"P5+\": (3, [(\"ccx\", 2, 1, 0), (\"cx\", 2, 1), (\"x\", 0), (\"x\", 2)]),\n",
    "    \"P5-\": (3, [(\"x\", 1), (\"x\", 2), (\"cx\", 1, 0), (\"x\", 1)]),\n",
    "    \"P6+\": (3, [(\"x\", 1), (\"cx\", 1, 0)]),\n",
    "    \"P6-\": (3, [(\"ccx\", 0, 1, 2), (\"x\", 1), (\"x\", 0)]),\n",
    "    \"P7+\": (3, [(\"cx\", 2, 1), (\"x\", 2), (\"x\", 1), (\"ccx\", 2, 1, 0)]),\n",
    "    \"P7-\": (3, [(\"x\", 2), (\"x\", 1), (\"x\", 0)]),\n",
    "}\n",
    "\n",
    "# Creating quantum circuits for each entry in circuits_data and storing them in a dictionary\n",
    "circuits = {name: create_circuit(name, data[0], data[1]) for name, data in circuits_data.items()}\n",
    "\n",
    "# Visualizing the quantum circuit for \"P6-\" using Matplotlib\n",
    "circuits[\"P6-\"].draw('mpl', scale=1.5)"
   ]
  },
  {
   "cell_type": "code",
   "execution_count": 4,
   "metadata": {},
   "outputs": [],
   "source": [
    "# Define a function for building a custom circuit\n",
    "def QC(qrg, crg, aux_circuit):\n",
    "    \"\"\"\n",
    "    Constructs a custom quantum circuit with the provided auxiliary circuit.\n",
    "\n",
    "    Parameters:\n",
    "    - qrg (QuantumRegister): Quantum register with the required number of qubits.\n",
    "    - crg (ClassicalRegister): Classical register for storing measurement outcomes.\n",
    "    - aux_circuit (QuantumCircuit): An auxiliary quantum circuit to be appended.\n",
    "\n",
    "    Returns:\n",
    "    - QuantumCircuit: The constructed quantum circuit.\n",
    "    \"\"\"\n",
    "    q = QuantumCircuit(qrg, crg)\n",
    "\n",
    "    # Apply various quantum gates to the qubits\n",
    "    q.h(0)\n",
    "    q.h(1)\n",
    "    q.h(2)\n",
    "    q.s(1)\n",
    "    q.z(0)\n",
    "    q.p(np.pi / 2, 2)\n",
    "    q.append(aux_circuit, range(3))  # Append the auxiliary circuit\n",
    "    q.p(np.pi / 2, 1)\n",
    "    q.h(1)\n",
    "    q.measure(qrg[1], crg[0])  # Measure qubit 1 and store it in the classical register\n",
    "\n",
    "    return q\n",
    "\n",
    "# Define quantum and classical registers\n",
    "num_qubits = 3\n",
    "qrg = QuantumRegister(num_qubits, name=\"q\")\n",
    "crg = ClassicalRegister(1, name=\"cr\")\n",
    "\n",
    "aux_circuits = []  # List to store aux_circuit values\n",
    "qcs = []  # List to store qc objects\n",
    "\n",
    "# Iterate over every key in the dictionary\n",
    "for key in circuits_data.keys():\n",
    "    # Retrieve aux_circuit from circuits using the key\n",
    "    aux_circuit = circuits[key]\n",
    "    aux_circuits.append(aux_circuit)  # Append to aux_circuits list\n",
    "\n",
    "    # Create a QC object and append to qcs list\n",
    "    qc = QC(qrg, crg, aux_circuit)\n",
    "    qcs.append(qc)\n",
    "\n",
    "for qc in qcs:\n",
    "    qc.draw('mpl')"
   ]
  },
  {
   "cell_type": "code",
   "execution_count": 5,
   "metadata": {},
   "outputs": [
    {
     "data": {
      "text/plain": [
       "6"
      ]
     },
     "execution_count": 5,
     "metadata": {},
     "output_type": "execute_result"
    }
   ],
   "source": [
    "qc.depth()"
   ]
  },
  {
   "cell_type": "code",
   "execution_count": 6,
   "metadata": {},
   "outputs": [
    {
     "name": "stdout",
     "output_type": "stream",
     "text": [
      ">>> Circuit ops (ISA): OrderedDict({'rz': 4, 'sx': 2, 'x': 1, 'measure': 1})\n",
      "depth: 3\n",
      "gates: 8\n",
      ">>> Circuit ops (ISA): OrderedDict({'rz': 48, 'sx': 32, 'ecr': 11, 'x': 1, 'measure': 1})\n",
      "depth: 55\n",
      "gates: 93\n",
      ">>> Circuit ops (ISA): OrderedDict({'rz': 36, 'sx': 19, 'ecr': 8, 'x': 3, 'measure': 1})\n",
      "depth: 46\n",
      "gates: 67\n",
      ">>> Circuit ops (ISA): OrderedDict({'sx': 3, 'rz': 3, 'x': 1, 'ecr': 1, 'measure': 1})\n",
      "depth: 5\n",
      "gates: 9\n",
      ">>> Circuit ops (ISA): OrderedDict({'rz': 5, 'sx': 3, 'ecr': 1, 'measure': 1})\n",
      "depth: 4\n",
      "gates: 10\n",
      ">>> Circuit ops (ISA): OrderedDict({'rz': 36, 'sx': 19, 'ecr': 8, 'x': 4, 'measure': 1})\n",
      "depth: 46\n",
      "gates: 68\n",
      ">>> Circuit ops (ISA): OrderedDict({'rz': 49, 'sx': 32, 'ecr': 11, 'x': 2, 'measure': 1})\n",
      "depth: 56\n",
      "gates: 95\n",
      ">>> Circuit ops (ISA): OrderedDict({'rz': 5, 'sx': 2, 'measure': 1})\n",
      "depth: 3\n",
      "gates: 8\n",
      ">>> Circuit ops (ISA): OrderedDict({'rz': 3, 'sx': 2, 'x': 1, 'measure': 1})\n",
      "depth: 3\n",
      "gates: 7\n",
      ">>> Circuit ops (ISA): OrderedDict({'rz': 48, 'sx': 32, 'ecr': 11, 'x': 1, 'measure': 1})\n",
      "depth: 55\n",
      "gates: 93\n",
      ">>> Circuit ops (ISA): OrderedDict({'rz': 30, 'sx': 19, 'ecr': 6, 'measure': 1})\n",
      "depth: 37\n",
      "gates: 56\n",
      ">>> Circuit ops (ISA): OrderedDict({'rz': 4, 'sx': 3, 'ecr': 1, 'measure': 1})\n",
      "depth: 5\n",
      "gates: 9\n",
      ">>> Circuit ops (ISA): OrderedDict({'rz': 4, 'sx': 3, 'x': 2, 'ecr': 1, 'measure': 1})\n",
      "depth: 5\n",
      "gates: 11\n",
      ">>> Circuit ops (ISA): OrderedDict({'rz': 33, 'sx': 21, 'ecr': 7, 'x': 1, 'measure': 1})\n",
      "depth: 39\n",
      "gates: 63\n",
      ">>> Circuit ops (ISA): OrderedDict({'rz': 49, 'sx': 32, 'ecr': 11, 'x': 2, 'measure': 1})\n",
      "depth: 56\n",
      "gates: 95\n",
      ">>> Circuit ops (ISA): OrderedDict({'rz': 4, 'sx': 2, 'measure': 1})\n",
      "depth: 3\n",
      "gates: 7\n"
     ]
    }
   ],
   "source": [
    "# Transpile to instruction set architecture (ISA) for target GPU\n",
    "# NOTE: Sampler V2 does not support optimization_level (https://docs.quantum.ibm.com/migration-guides/v2-primitives)\n",
    "# We'll leave optimization_level in just to be safe\n",
    "service = QiskitRuntimeService()\n",
    "backend = service.backend(\"ibm_sherbrooke\")\n",
    "pm = generate_preset_pass_manager(optimization_level=3, backend=backend)\n",
    "isa_circuits = pm.run(qcs)\n",
    "\n",
    "for circuit in isa_circuits:\n",
    "    print(f\">>> Circuit ops (ISA): {circuit.count_ops()}\")\n",
    "    print('depth:', circuit.depth())\n",
    "    print('gates:', sum(circuit.count_ops().values()))"
   ]
  },
  {
   "cell_type": "code",
   "execution_count": 9,
   "metadata": {},
   "outputs": [
    {
     "name": "stderr",
     "output_type": "stream",
     "text": [
      "C:\\Users\\Evan\\anaconda3\\envs\\superstaq\\Lib\\site-packages\\qiskit_ibm_runtime\\qiskit_runtime_service.py:836: UserWarning: The backend ibm_sherbrooke currently has a status of internal.\n",
      "  warnings.warn(\n"
     ]
    },
    {
     "name": "stdout",
     "output_type": "stream",
     "text": [
      "Fidelity for circuit 0: 0.9995912438095313\n",
      "Fidelity for circuit 1: 0.9996268672018503\n",
      "Fidelity for circuit 2: 0.9998512382827842\n",
      "Fidelity for circuit 3: 0.99995777052043\n",
      "Fidelity for circuit 4: 1.0\n",
      "Fidelity for circuit 5: 0.9997145945049833\n",
      "Fidelity for circuit 6: 0.9999867882448096\n",
      "Fidelity for circuit 7: 0.9999935558658415\n",
      "Fidelity for circuit 8: 0.9999888370654938\n",
      "Fidelity for circuit 9: 0.9998033448065612\n",
      "Fidelity for circuit 10: 0.9994469369006603\n",
      "Fidelity for circuit 11: 0.9994835072247339\n",
      "Fidelity for circuit 12: 1.0\n",
      "Fidelity for circuit 13: 0.9999349647307626\n",
      "Fidelity for circuit 14: 0.9984544730105515\n",
      "Fidelity for circuit 15: 0.9998134111351089\n"
     ]
    }
   ],
   "source": [
    "from qiskit.quantum_info import hellinger_fidelity\n",
    "\n",
    "# Initialize the sampler with your backend\n",
    "sampler = Sampler(backend)\n",
    "\n",
    "# Initialize lists to store results for each circuit\n",
    "fidelities = []\n",
    "\n",
    "# Loop through each circuit in isa_circuits\n",
    "for circuit in isa_circuits:\n",
    "    # Submit the circuit to the sampler twice\n",
    "    res1 = sampler.run([circuit]).result()\n",
    "    res2 = sampler.run([circuit]).result()\n",
    "    \n",
    "    # Access counts from the result for the classical register 'cr'\n",
    "    counts1 = res1[0].data['cr'].get_counts()\n",
    "    counts2 = res2[0].data['cr'].get_counts()\n",
    "    \n",
    "    # Compute Hellinger fidelity between the two result sets\n",
    "    fidelity = hellinger_fidelity(counts1, counts2)\n",
    "    fidelities.append(fidelity)\n",
    "\n",
    "# Print the fidelities for each circuit\n",
    "for idx, fidelity in enumerate(fidelities):\n",
    "    print(f\"Fidelity for circuit {idx}: {fidelity}\")"
   ]
  },
  {
   "cell_type": "code",
   "execution_count": null,
   "metadata": {},
   "outputs": [],
   "source": []
  }
 ],
 "metadata": {
  "kernelspec": {
   "display_name": "Python 3 (ipykernel)",
   "language": "python",
   "name": "python3"
  },
  "language_info": {
   "codemirror_mode": {
    "name": "ipython",
    "version": 3
   },
   "file_extension": ".py",
   "mimetype": "text/x-python",
   "name": "python",
   "nbconvert_exporter": "python",
   "pygments_lexer": "ipython3",
   "version": "3.13.1"
  }
 },
 "nbformat": 4,
 "nbformat_minor": 4
}
