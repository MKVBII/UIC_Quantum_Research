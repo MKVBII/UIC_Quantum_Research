{
 "cells": [
  {
   "cell_type": "code",
   "execution_count": null,
   "metadata": {},
   "outputs": [],
   "source": [
    "# Cell 1: Imports and Setup\n",
    "import numpy as np\n",
    "from numpy import pi\n",
    "import matplotlib.pyplot as plt\n",
    "from qiskit import QuantumCircuit, QuantumRegister, ClassicalRegister\n",
    "from qiskit.quantum_info import hellinger_fidelity\n",
    "import qiskit_superstaq as qss\n",
    "\n",
    "# Initialize Superstaq provider (Sorry Evan)\n",
    "superstaq = qss.superstaq_provider.SuperstaqProvider(\".....\")  # Uses SUPERSTAQ_API_KEY environment variable or you can input your own\n"
   ]
  },
  {
   "cell_type": "code",
   "execution_count": 27,
   "metadata": {},
   "outputs": [],
   "source": [
    "# Cell 2: Define Circuit Creation Functions\n",
    "def create_circuit(name, num_qubits, operations):\n",
    "    \"\"\"Creates a quantum circuit with specified operations.\"\"\"\n",
    "    circuit = QuantumCircuit(num_qubits, name=name)\n",
    "    for op in operations:\n",
    "        getattr(circuit, op[0])(*op[1:])\n",
    "    return circuit\n",
    "\n",
    "def QC(qrg, crg, aux_circuit):\n",
    "    \"\"\"Constructs custom quantum circuit with auxiliary circuit.\"\"\"\n",
    "    q = QuantumCircuit(qrg, crg)\n",
    "    q.h(0)\n",
    "    q.h(1)\n",
    "    q.h(2)\n",
    "    q.s(1)\n",
    "    q.z(0)\n",
    "    q.p(np.pi / 2, 2)\n",
    "    q.append(aux_circuit, range(3))\n",
    "    q.p(np.pi / 2, 1)\n",
    "    q.h(1)\n",
    "    q.measure(qrg[1], crg[0])\n",
    "    return q"
   ]
  },
  {
   "cell_type": "code",
   "execution_count": 16,
   "metadata": {},
   "outputs": [
    {
     "data": {
      "image/png": "[encoded data removed]",
      "text/plain": [
       "<Figure size 431.245x426.417 with 1 Axes>"
      ]
     },
     "execution_count": 16,
     "metadata": {},
     "output_type": "execute_result"
    }
   ],
   "source": [
    "# Cell 3: Define Circuit Data\n",
    "circuits_data = {\n",
    "    \"P0+\": (3, [(\"id\", 0), (\"id\", 1), (\"id\", 2)]),\n",
    "    \"P0-\": (3, [(\"cx\", 2, 1), (\"x\", 0), (\"x\", 1), (\"x\", 2), (\"ccx\", 2, 1, 0), (\"x\", 1), (\"x\", 2)]),\n",
    "    \"P1+\": (3, [(\"ccx\", 2, 1, 0), (\"cx\", 2, 1), (\"x\", 2)]),\n",
    "    \"P1-\": (3, [(\"cx\", 1, 0), (\"x\", 2)]),\n",
    "    \"P2+\": (3, [(\"cx\", 1, 0), (\"x\", 1)]),\n",
    "    \"P2-\": (3, [(\"ccx\", 2, 1, 0), (\"cx\", 2, 1), (\"x\", 1)]),\n",
    "    \"P3+\": (3, [(\"cx\", 2, 1), (\"x\", 0), (\"x\", 1), (\"x\", 2), (\"ccx\", 2, 1, 0)]),\n",
    "    \"P3-\": (3, [(\"x\", 1)]),\n",
    "    \"P4+\": (3, [(\"x\", 2)]),\n",
    "    \"P4-\": (3, [(\"cx\", 2, 1), (\"x\", 0), (\"x\", 1), (\"x\", 2), (\"ccx\", 2, 1, 0), (\"x\", 2), (\"x\", 1)]),\n",
    "    \"P5+\": (3, [(\"ccx\", 2, 1, 0), (\"cx\", 2, 1), (\"x\", 0), (\"x\", 2)]),\n",
    "    \"P5-\": (3, [(\"x\", 1), (\"x\", 2), (\"cx\", 1, 0), (\"x\", 1)]),\n",
    "    \"P6+\": (3, [(\"x\", 1), (\"cx\", 1, 0)]),\n",
    "    \"P6-\": (3, [(\"ccx\", 0, 1, 2), (\"x\", 1), (\"x\", 0)]),\n",
    "    \"P7+\": (3, [(\"cx\", 2, 1), (\"x\", 2), (\"x\", 1), (\"ccx\", 2, 1, 0)]),\n",
    "    \"P7-\": (3, [(\"x\", 2), (\"x\", 1), (\"x\", 0)]),\n",
    "}\n",
    "\n",
    "# Create circuits\n",
    "circuits = {name: create_circuit(name, data[0], data[1]) for name, data in circuits_data.items()}\n",
    "\n",
    "# Visualize example circuit\n",
    "circuits[\"P6-\"].draw('mpl', scale=1.5)"
   ]
  },
  {
   "cell_type": "code",
   "execution_count": 17,
   "metadata": {},
   "outputs": [
    {
     "name": "stdout",
     "output_type": "stream",
     "text": [
      "Total circuits created: 16\n",
      "Example circuit depth: 6\n"
     ]
    }
   ],
   "source": [
    "# Cell 4: Build Complete Quantum Circuits\n",
    "num_qubits = 3\n",
    "qrg = QuantumRegister(num_qubits, name=\"q\")\n",
    "crg = ClassicalRegister(1, name=\"cr\")\n",
    "qcs = []\n",
    "\n",
    "for key in circuits_data.keys():\n",
    "    aux_circuit = circuits[key]\n",
    "    qc = QC(qrg, crg, aux_circuit)\n",
    "    qcs.append(qc)\n",
    "\n",
    "# Display first circuit\n",
    "qcs[0].draw('mpl')\n",
    "print(f\"Total circuits created: {len(qcs)}\")\n",
    "print(f\"Example circuit depth: {qcs[0].depth()}\")"
   ]
  },
  {
   "cell_type": "code",
   "execution_count": null,
   "metadata": {},
   "outputs": [
    {
     "name": "stdout",
     "output_type": "stream",
     "text": [
      "Available backends:\n",
      "  - aqt_keysight_qpu\n",
      "  - aqt_zurich_qpu\n",
      "  - aws_dm1_simulator\n",
      "  - aws_sv1_simulator\n",
      "  - aws_tn1_simulator\n",
      "  - cq_sqale_qpu\n",
      "  - cq_sqale_simulator\n",
      "  - eeroq_wonderlake_qpu\n",
      "  - ibmq_brisbane_qpu\n",
      "  - ibmq_fez_qpu\n",
      "  - ibmq_kingston_qpu\n",
      "  - ibmq_marrakesh_qpu\n",
      "  - ibmq_sherbrooke_qpu\n",
      "  - ibmq_torino_qpu\n",
      "  - ionq_aria-1_qpu\n",
      "  - ionq_aria-2_qpu\n",
      "  - ionq_forte-1_qpu\n",
      "  - ionq_forte-enterprise-1_qpu\n",
      "  - ionq_ion_simulator\n",
      "  - iqm_garnet_qpu\n",
      "  - qscout_peregrine_qpu\n",
      "  - qtm_h1-1_qpu\n",
      "  - qtm_h1-1e_simulator\n",
      "  - qtm_h2-1_qpu\n",
      "  - rigetti_ankaa-3_qpu\n",
      "  - ss_unconstrained_simulator\n",
      "\n",
      "Selected backend: ss_unconstrained_simulator\n"
     ]
    }
   ],
   "source": [
    "# Cell 5: Check Available Backends\n",
    "backends = superstaq.backends()\n",
    "print(\"Available backends:\")\n",
    "for backend in backends:\n",
    "    print(f\"  - {backend.name}\")\n",
    "\n",
    "# Select the accessible simulator\n",
    "backend = superstaq.get_backend(\"ss_unconstrained_simulator\")\n",
    "print(f\"\\nSelected backend: {backend.name}\")"
   ]
  },
  {
   "cell_type": "code",
   "execution_count": 21,
   "metadata": {},
   "outputs": [
    {
     "name": "stdout",
     "output_type": "stream",
     "text": [
      "Testing simple circuit...\n",
      "Test circuit counts: {'0000': 50, '1100': 50}\n"
     ]
    }
   ],
   "source": [
    "# Cell 6: Test with Small Circuit\n",
    "# Test with a simple circuit first\n",
    "test_qc = QuantumCircuit(2, 2)\n",
    "test_qc.h(0)\n",
    "test_qc.cx(0, 1)\n",
    "test_qc.measure_all()\n",
    "\n",
    "print(\"Testing simple circuit...\")\n",
    "job = backend.run(test_qc, shots=100, method=\"dry-run\")\n",
    "result = job.result()\n",
    "counts = result.get_counts()\n",
    "print(f\"Test circuit counts: {counts}\")"
   ]
  },
  {
   "cell_type": "code",
   "execution_count": 22,
   "metadata": {},
   "outputs": [
    {
     "name": "stdout",
     "output_type": "stream",
     "text": [
      "Circuit 0 counts: {'1': 1024}\n",
      "Circuit 1 counts: {'0': 1024}\n",
      "Circuit 2 counts: {'1': 1024}\n"
     ]
    }
   ],
   "source": [
    "# Cell 7: Submit Jobs (Small Batch with Dry Run)\n",
    "# Submit first few circuits as test using dry-run\n",
    "test_circuits = qcs[:3]\n",
    "jobs = []\n",
    "results = []\n",
    "\n",
    "for idx, circuit in enumerate(test_circuits):\n",
    "    try:\n",
    "        job = backend.run(circuit, shots=1024, method=\"dry-run\")\n",
    "        jobs.append(job)\n",
    "        result = job.result()\n",
    "        results.append(result)\n",
    "        counts = result.get_counts()\n",
    "        print(f\"Circuit {idx} counts: {counts}\")\n",
    "    except Exception as e:\n",
    "        print(f\"Error with circuit {idx}: {e}\")"
   ]
  },
  {
   "cell_type": "code",
   "execution_count": 23,
   "metadata": {},
   "outputs": [
    {
     "name": "stdout",
     "output_type": "stream",
     "text": [
      "\n",
      "Circuit Statistics:\n",
      "\n",
      "Circuit 0:\n",
      "  Depth: 6\n",
      "  Gate counts: OrderedDict([('h', 4), ('p', 2), ('s', 1), ('z', 1), ('P0+', 1), ('measure', 1)])\n",
      "  Total gates: 10\n",
      "\n",
      "Circuit 1:\n",
      "  Depth: 6\n",
      "  Gate counts: OrderedDict([('h', 4), ('p', 2), ('s', 1), ('z', 1), ('P0-', 1), ('measure', 1)])\n",
      "  Total gates: 10\n",
      "\n",
      "Circuit 2:\n",
      "  Depth: 6\n",
      "  Gate counts: OrderedDict([('h', 4), ('p', 2), ('s', 1), ('z', 1), ('P1+', 1), ('measure', 1)])\n",
      "  Total gates: 10\n",
      "\n",
      "Circuit 3:\n",
      "  Depth: 6\n",
      "  Gate counts: OrderedDict([('h', 4), ('p', 2), ('s', 1), ('z', 1), ('P1-', 1), ('measure', 1)])\n",
      "  Total gates: 10\n",
      "\n",
      "Circuit 4:\n",
      "  Depth: 6\n",
      "  Gate counts: OrderedDict([('h', 4), ('p', 2), ('s', 1), ('z', 1), ('P2+', 1), ('measure', 1)])\n",
      "  Total gates: 10\n"
     ]
    }
   ],
   "source": [
    "# Cell 8: Analyze Circuit Statistics\n",
    "print(\"\\nCircuit Statistics:\")\n",
    "for idx, circuit in enumerate(qcs[:5]):  # First 5 circuits\n",
    "    print(f\"\\nCircuit {idx}:\")\n",
    "    print(f\"  Depth: {circuit.depth()}\")\n",
    "    print(f\"  Gate counts: {circuit.count_ops()}\")\n",
    "    print(f\"  Total gates: {sum(circuit.count_ops().values())}\")"
   ]
  },
  {
   "cell_type": "code",
   "execution_count": 24,
   "metadata": {},
   "outputs": [
    {
     "name": "stdout",
     "output_type": "stream",
     "text": [
      "\n",
      "Running fidelity test...\n",
      "Hellinger fidelity between runs: 1.0000\n"
     ]
    }
   ],
   "source": [
    "# Cell 9: Fidelity Analysis (Using Dry Run)\n",
    "print(\"\\nRunning fidelity test...\")\n",
    "if qcs:\n",
    "    try:\n",
    "        # Run same circuit twice\n",
    "        job1 = backend.run(qcs[0], shots=1024, method=\"dry-run\")\n",
    "        job2 = backend.run(qcs[0], shots=1024, method=\"dry-run\")\n",
    "        \n",
    "        result1 = job1.result()\n",
    "        result2 = job2.result()\n",
    "        \n",
    "        counts1 = result1.get_counts()\n",
    "        counts2 = result2.get_counts()\n",
    "        \n",
    "        fidelity = hellinger_fidelity(counts1, counts2)\n",
    "        print(f\"Hellinger fidelity between runs: {fidelity:.4f}\")\n",
    "    except Exception as e:\n",
    "        print(f\"Fidelity test error: {e}\")"
   ]
  },
  {
   "cell_type": "code",
   "execution_count": 25,
   "metadata": {},
   "outputs": [
    {
     "name": "stdout",
     "output_type": "stream",
     "text": [
      "\n",
      "Processing all circuits with dry run...\n",
      "Circuit 0: {'1': 1024}\n",
      "Circuit 1: {'0': 1024}\n",
      "Circuit 2: {'1': 1024}\n",
      "Circuit 3: {'0': 1024}\n",
      "Circuit 4: {'1': 1024}\n",
      "\n",
      "Successfully processed 16 circuits\n"
     ]
    }
   ],
   "source": [
    "# Cell 10: Batch Processing All Circuits (Dry Run)\n",
    "print(\"\\nProcessing all circuits with dry run...\")\n",
    "all_results = []\n",
    "\n",
    "for idx, circuit in enumerate(qcs):\n",
    "    try:\n",
    "        job = backend.run(circuit, shots=1024, method=\"dry-run\")\n",
    "        result = job.result()\n",
    "        all_results.append(result)\n",
    "        \n",
    "        if idx < 5:  # Show first 5 results\n",
    "            counts = result.get_counts()\n",
    "            print(f\"Circuit {idx}: {counts}\")\n",
    "    except Exception as e:\n",
    "        print(f\"Error with circuit {idx}: {e}\")\n",
    "\n",
    "print(f\"\\nSuccessfully processed {len(all_results)} circuits\")"
   ]
  },
  {
   "cell_type": "code",
   "execution_count": null,
   "metadata": {},
   "outputs": [],
   "source": [
    "# Cell 11: Run on Real Hardware (Remove dry-run when ready)\n",
    "# WARNING: This will use credits!\n",
    "\"\"\"\n",
    "# Uncomment to run on real hardware\n",
    "real_backend = superstaq.get_backend(\"ibmq_brisbane_qpu\")  # or another available QPU\n",
    "real_jobs = []\n",
    "\n",
    "for idx in range(3):  # Only run first 3 to save credits\n",
    "    job = real_backend.run(qcs[idx], shots=1024)  # No dry-run parameter\n",
    "    real_jobs.append(job)\n",
    "    print(f\"Submitted real job {idx}: {job.job_id()}\")\n",
    "\n",
    "# Wait for results\n",
    "import time\n",
    "for job in real_jobs:\n",
    "    while job.status() != 'DONE':\n",
    "        time.sleep(10)\n",
    "    result = job.result()\n",
    "    print(f\"Real hardware result: {result.get_counts()}\")\n",
    "\"\"\""
   ]
  },
  {
   "cell_type": "code",
   "execution_count": null,
   "metadata": {},
   "outputs": [],
   "source": [
    "# Cell 12: Save Results\n",
    "# Save job IDs and results for later analysis\n",
    "import json\n",
    "\n",
    "results_data = {\n",
    "    \"job_ids\": [job.job_id() for job in jobs],\n",
    "    \"circuit_names\": list(circuits_data.keys())[:len(jobs)],\n",
    "    \"backend\": backend.name()\n",
    "}\n",
    "\n",
    "with open('superstaq_results.json', 'w') as f:\n",
    "    json.dump(results_data, f, indent=2)\n",
    "\n",
    "print(\"Results saved to superstaq_results.json\")"
   ]
  }
 ],
 "metadata": {
  "kernelspec": {
   "display_name": "qiskit-env",
   "language": "python",
   "name": "python3"
  },
  "language_info": {
   "codemirror_mode": {
    "name": "ipython",
    "version": 3
   },
   "file_extension": ".py",
   "mimetype": "text/x-python",
   "name": "python",
   "nbconvert_exporter": "python",
   "pygments_lexer": "ipython3",
   "version": "3.10.16"
  }
 },
 "nbformat": 4,
 "nbformat_minor": 4
}
